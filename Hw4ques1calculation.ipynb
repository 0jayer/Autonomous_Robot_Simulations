{
  "nbformat": 4,
  "nbformat_minor": 0,
  "metadata": {
    "colab": {
      "provenance": [],
      "authorship_tag": "ABX9TyOdxr2VGrdj9cyKbX1tGtyt",
      "include_colab_link": true
    },
    "kernelspec": {
      "name": "python3",
      "display_name": "Python 3"
    },
    "language_info": {
      "name": "python"
    }
  },
  "cells": [
    {
      "cell_type": "markdown",
      "metadata": {
        "id": "view-in-github",
        "colab_type": "text"
      },
      "source": [
        "<a href=\"https://colab.research.google.com/github/0jayer/Autonomous_Robot_Simulations/blob/main/Hw4ques1calculation.ipynb\" target=\"_parent\"><img src=\"https://colab.research.google.com/assets/colab-badge.svg\" alt=\"Open In Colab\"/></a>"
      ]
    },
    {
      "cell_type": "code",
      "execution_count": null,
      "metadata": {
        "id": "iFr9COih6_4u"
      },
      "outputs": [],
      "source": [
        "import numpy as np\n",
        "import cv2\n",
        "import matplotlib.pyplot as plt"
      ]
    },
    {
      "cell_type": "code",
      "source": [
        "def correlation(img,F):\n",
        "    #get image and filter size\n",
        "    m,n= img.shape #shape returns dimesnions of array\n",
        "    k,l= F.shape\n",
        "    #padding image\n",
        "    #using np.pad to shorten the code\n",
        "    img_padded = np.pad(img,((1,1),(1,1)), mode='constant', constant_values=0)\n",
        "\n",
        "    #converting the filter matrix into a column vector\n",
        "    f = F.flatten()\n",
        "    G = np.zeros((m,n))\n",
        "    for i in range(m):\n",
        "      for j in range(n):\n",
        "        t = img_padded[i:i+k,j:j+l]  #getting the specific part of the padded image for dot product\n",
        "        t_ij = t.flatten()    #converting it into column vector\n",
        "\n",
        "        G[i,j] = np.dot(f,t_ij) #calculating the output matrix using dot product\n",
        "\n",
        "    G_pad = np.pad(G,((1,1),(1,1)), mode='constant', constant_values=0)\n",
        "    return G"
      ],
      "metadata": {
        "id": "F9SCxmSf7CW8"
      },
      "execution_count": null,
      "outputs": []
    },
    {
      "cell_type": "code",
      "source": [
        "F1 = np.array([[0, 0, 0], [0, 1, 0], [0, 0, 0]])  # No change\n",
        "F2 = np.array([[1,0,0],[0,0,0],[0,0,0]])          # move image down right\n",
        "F3 = np.array([[1,1,1],[0,0,0],[-1,-1,-1]])       # vertical edge detection\n",
        "F4 = np.array([[-1,0,1],[-1,0,1],[-1,0,1]])       # horizontal edge detection\n",
        "F5 = np.array([[1,2,1],[2,4,2],[1,2,1]])/16       # gaussian filter\n",
        "F6 = np.array([[1,1,1],[1,1,1],[1,1,1]])/9        # moving average filter\n",
        "\n",
        "I = np.array([[7, 4, 1], [8, 5, 2], [9, 6, 3]])\n",
        "\n",
        "G1 = correlation(I,F1)\n",
        "G2 = correlation(I,F2)\n",
        "G3 = correlation(I,F3)\n",
        "G4 = correlation(I,F4)\n",
        "G5 = correlation(I,F5)\n",
        "G6 = correlation(I,F6)\n",
        "\n",
        "print(G1)\n",
        "print(G2)\n",
        "print(G3)\n",
        "print(G4)\n",
        "print(G5)\n",
        "print(G6)"
      ],
      "metadata": {
        "colab": {
          "base_uri": "https://localhost:8080/"
        },
        "id": "hjLoiTW67CSs",
        "outputId": "9ea8d3a8-dbef-4cbf-b780-36682b1f86a1"
      },
      "execution_count": null,
      "outputs": [
        {
          "output_type": "stream",
          "name": "stdout",
          "text": [
            "[[7. 4. 1.]\n",
            " [8. 5. 2.]\n",
            " [9. 6. 3.]]\n",
            "[[0. 0. 0.]\n",
            " [0. 7. 4.]\n",
            " [0. 8. 5.]]\n",
            "[[-13. -15.  -7.]\n",
            " [ -4.  -6.  -4.]\n",
            " [ 13.  15.   7.]]\n",
            "[[  9. -12.  -9.]\n",
            " [ 15. -18. -15.]\n",
            " [ 11. -12. -11.]]\n",
            "[[3.5625 3.25   1.3125]\n",
            " [5.25   5.     2.25  ]\n",
            " [4.3125 4.25   2.0625]]\n",
            "[[2.66666667 3.         1.33333333]\n",
            " [4.33333333 5.         2.33333333]\n",
            " [3.11111111 3.66666667 1.77777778]]\n"
          ]
        }
      ]
    }
  ]
}